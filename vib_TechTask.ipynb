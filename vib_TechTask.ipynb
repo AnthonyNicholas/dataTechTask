{
 "cells": [
  {
   "cell_type": "code",
   "execution_count": 1,
   "metadata": {},
   "outputs": [],
   "source": [
    "#Vibrato tech task notebook\n",
    "import pandas as pd\n",
    "import numpy as np\n",
    "import sqlite3\n",
    "import csv"
   ]
  },
  {
   "cell_type": "code",
   "execution_count": 2,
   "metadata": {},
   "outputs": [],
   "source": [
    "#url = \"https://s3-ap-southeast-2.amazonaws.com/vibrato-data-test-public-datasets/world-food-facts.zip\"\n",
    "#df = pd.read_csv(url, compression = 'zip', sep='\\t',skiprows=(0),header=(0))"
   ]
  },
  {
   "cell_type": "code",
   "execution_count": 3,
   "metadata": {},
   "outputs": [],
   "source": [
    "foodTSV = 'en.openfoodfacts.org.products.tsv'"
   ]
  },
  {
   "cell_type": "code",
   "execution_count": 12,
   "metadata": {},
   "outputs": [
    {
     "name": "stdout",
     "output_type": "stream",
     "text": [
      "162\n"
     ]
    }
   ],
   "source": [
    "#open database file and csv reader (formatted for reading tsv)\n",
    "\n",
    "SQLITE_FILE = \"openFoodFacts.db\"\n",
    "conn = sqlite3.connect(SQLITE_FILE) #opens sqlite and database file\n",
    "myCursor = conn.cursor() #provides connection to database\n",
    "\n",
    "reader = csv.reader(open(foodTSV), delimiter='\\t')\n",
    "#print(reader.line_num)\n",
    "#print(dir(reader))\n",
    "headers = reader.__next__()\n",
    "print(len(headers))"
   ]
  },
  {
   "cell_type": "code",
   "execution_count": 13,
   "metadata": {},
   "outputs": [
    {
     "name": "stdout",
     "output_type": "stream",
     "text": [
      "CREATE TABLE FoodFacts (  code text, url text, creator text, created_t text, created_datetime text, last_modified_t text, last_modified_datetime text, product_name text, generic_name text, quantity text, packaging text, packaging_tags text, brands text, brands_tags text, categories text, categories_tags text, categories_en text, origins text, origins_tags text, manufacturing_places text, manufacturing_places_tags text, labels text, labels_tags text, labels_en text, emb_codes text, emb_codes_tags text, first_packaging_code_geo text, cities text, cities_tags text, purchase_places text, stores text, countries text, countries_tags text, countries_en text, ingredients_text text, allergens text, allergens_en text, traces text, traces_tags text, traces_en text, serving_size text, no_nutriments text, additives_n text, additives text, additives_tags text, additives_en text, ingredients_from_palm_oil_n text, ingredients_from_palm_oil text, ingredients_from_palm_oil_tags text, ingredients_that_may_be_from_palm_oil_n text, ingredients_that_may_be_from_palm_oil text, ingredients_that_may_be_from_palm_oil_tags text, nutrition_grade_uk text, nutrition_grade_fr text, pnns_groups_1 text, pnns_groups_2 text, states text, states_tags text, states_en text, main_category text, main_category_en text, image_url text, image_small_url text, energy_100g text, energy_from_fat_100g real, fat_100g real, saturated_fat_100g real, _butyric_acid_100g real, _caproic_acid_100g real, _caprylic_acid_100g real, _capric_acid_100g real, _lauric_acid_100g real, _myristic_acid_100g real, _palmitic_acid_100g real, _stearic_acid_100g real, _arachidic_acid_100g real, _behenic_acid_100g real, _lignoceric_acid_100g real, _cerotic_acid_100g real, _montanic_acid_100g real, _melissic_acid_100g real, monounsaturated_fat_100g real, polyunsaturated_fat_100g real, omega_3_fat_100g real, _alpha_linolenic_acid_100g real, _eicosapentaenoic_acid_100g real, _docosahexaenoic_acid_100g real, omega_6_fat_100g real, _linoleic_acid_100g real, _arachidonic_acid_100g real, _gamma_linolenic_acid_100g real, _dihomo_gamma_linolenic_acid_100g real, omega_9_fat_100g real, _oleic_acid_100g real, _elaidic_acid_100g real, _gondoic_acid_100g real, _mead_acid_100g real, _erucic_acid_100g real, _nervonic_acid_100g real, trans_fat_100g real, cholesterol_100g real, carbohydrates_100g real, sugars_100g real, _sucrose_100g real, _glucose_100g real, _fructose_100g real, _lactose_100g real, _maltose_100g real, _maltodextrins_100g real, starch_100g real, polyols_100g real, fiber_100g real, proteins_100g real, casein_100g real, serum_proteins_100g real, nucleotides_100g real, salt_100g real, sodium_100g real, alcohol_100g real, vitamin_a_100g real, beta_carotene_100g real, vitamin_d_100g real, vitamin_e_100g real, vitamin_k_100g real, vitamin_c_100g real, vitamin_b1_100g real, vitamin_b2_100g real, vitamin_pp_100g real, vitamin_b6_100g real, vitamin_b9_100g real, folates_100g real, vitamin_b12_100g real, biotin_100g real, pantothenic_acid_100g real, silica_100g real, bicarbonate_100g real, potassium_100g real, chloride_100g real, calcium_100g real, phosphorus_100g real, iron_100g real, magnesium_100g real, zinc_100g real, copper_100g real, manganese_100g real, fluoride_100g real, selenium_100g real, chromium_100g real, molybdenum_100g real, iodine_100g real, caffeine_100g real, taurine_100g real, ph_100g real, fruits_vegetables_nuts_100g real, collagen_meat_protein_ratio_100g real, cocoa_100g real, chlorophyl_100g real, carbon_footprint_100g real, nutrition_score_fr_100g real, nutrition_score_uk_100g real, glycemic_index_100g real, water_hardness_100g real);\n"
     ]
    },
    {
     "ename": "OperationalError",
     "evalue": "table FoodFacts already exists",
     "output_type": "error",
     "traceback": [
      "\u001b[0;31m---------------------------------------------------------------------------\u001b[0m",
      "\u001b[0;31mOperationalError\u001b[0m                          Traceback (most recent call last)",
      "\u001b[0;32m<ipython-input-13-57e2cfdfbf12>\u001b[0m in \u001b[0;36m<module>\u001b[0;34m()\u001b[0m\n\u001b[1;32m     17\u001b[0m \u001b[0mprint\u001b[0m\u001b[0;34m(\u001b[0m\u001b[0mdo_this_sqlite_1\u001b[0m\u001b[0;34m)\u001b[0m\u001b[0;34m\u001b[0m\u001b[0m\n\u001b[1;32m     18\u001b[0m \u001b[0;34m\u001b[0m\u001b[0m\n\u001b[0;32m---> 19\u001b[0;31m \u001b[0mmyCursor\u001b[0m\u001b[0;34m.\u001b[0m\u001b[0mexecute\u001b[0m\u001b[0;34m(\u001b[0m\u001b[0mdo_this_sqlite_1\u001b[0m\u001b[0;34m)\u001b[0m\u001b[0;34m\u001b[0m\u001b[0m\n\u001b[0m",
      "\u001b[0;31mOperationalError\u001b[0m: table FoodFacts already exists"
     ]
    }
   ],
   "source": [
    "# Create table in sqlite3.  First 64 entries have type text, the rest as real numbers.  \n",
    "\n",
    "do_this_sqlite_1 = \"CREATE TABLE FoodFacts ( \"\n",
    "\n",
    "for headerName in headers[:64]:\n",
    "    do_this_sqlite_1 += \" \" + headerName + \" text,\"\n",
    "\n",
    "for headerName in headers[64:]:\n",
    "    do_this_sqlite_1 += \" \" + headerName + \" real,\"\n",
    "    \n",
    "do_this_sqlite_1 = do_this_sqlite_1[:-1]\n",
    "\n",
    "do_this_sqlite_1 += \");\"\n",
    "\n",
    "do_this_sqlite_1 = do_this_sqlite_1.replace('-', '_') #sql doesn't seem to like hyphens\n",
    "\n",
    "print(do_this_sqlite_1)\n",
    "\n",
    "myCursor.execute(do_this_sqlite_1)"
   ]
  },
  {
   "cell_type": "code",
   "execution_count": 14,
   "metadata": {},
   "outputs": [
    {
     "name": "stdout",
     "output_type": "stream",
     "text": [
      "INSERT INTO FoodFacts VALUES ( ?,?,?,?,?,?,?,?,?,?,?,?,?,?,?,?,?,?,?,?,?,?,?,?,?,?,?,?,?,?,?,?,?,?,?,?,?,?,?,?,?,?,?,?,?,?,?,?,?,?,?,?,?,?,?,?,?,?,?,?,?,?,?,?,?,?,?,?,?,?,?,?,?,?,?,?,?,?,?,?,?,?,?,?,?,?,?,?,?,?,?,?,?,?,?,?,?,?,?,?,?,?,?,?,?,?,?,?,?,?,?,?,?,?,?,?,?,?,?,?,?,?,?,?,?,?,?,?,?,?,?,?,?,?,?,?,?,?,?,?,?,?,?,?,?,?,?,?,?,?,?,?,?,?,?,?,?,?,?,?,?,?)\n",
      "rowErrors = 48\n"
     ]
    }
   ],
   "source": [
    "#Insert values from tsv file into table\n",
    "\n",
    "do_this_sqlite = \"INSERT INTO FoodFacts VALUES ( \"\n",
    "do_this_sqlite += \"?,\" * len(headers)\n",
    "do_this_sqlite = do_this_sqlite[:-1]\n",
    "do_this_sqlite += \")\"\n",
    "\n",
    "print(do_this_sqlite)\n",
    "\n",
    "rowErrors = 0\n",
    "\n",
    "for row in reader:\n",
    "    try:\n",
    "        myCursor.execute(do_this_sqlite,row)\n",
    "    except:\n",
    "        rowErrors += 1\n",
    "        \n",
    "print(\"rowErrors = {}\".format(rowErrors))\n",
    "    \n",
    "conn.commit()"
   ]
  },
  {
   "cell_type": "code",
   "execution_count": 10,
   "metadata": {},
   "outputs": [],
   "source": [
    "SQLITE_FILE = \"openFoodFacts.db\"\n",
    "conn = sqlite3.connect(SQLITE_FILE) #opens sqlite and database file\n",
    "myCursor = conn.cursor() #provides connection to database\n",
    "myCursor.execute(\"PRAGMA table_info(FoodFacts);\")\n",
    "results = myCursor.fetchall()\n",
    "# print(results)\n",
    "# conn.close()"
   ]
  },
  {
   "cell_type": "code",
   "execution_count": 16,
   "metadata": {},
   "outputs": [
    {
     "name": "stdout",
     "output_type": "stream",
     "text": [
      "[('Farine de blé noir',), ('Banana Chips Sweetened (Whole)',), ('Peanuts',), ('Organic Salted Nut Mix',), ('Organic Polenta',), ('Breadshop Honey Gone Nuts Granola',), ('Organic Long Grain White Rice',), ('Organic Muesli',), ('Organic Dark Chocolate Minis',), ('Organic Sunflower Oil',), ('Organic Adzuki Beans',), ('Organic Penne Pasta',), ('Zen Party Mix',), ('Organic Golden Flax Seeds',), ('Organic Spicy Punks',), ('Cinnamon Nut Granola',), ('Organic Hazelnuts',), ('Organic Sweetened Banana Chips',), ('Lotus Organic Brown Jasmine Rice',), ('Organic Oat Groats',)]\n"
     ]
    }
   ],
   "source": [
    "SQLITE_FILE = \"openFoodFacts.db\"\n",
    "conn = sqlite3.connect(SQLITE_FILE) #opens sqlite and database file\n",
    "myCursor = conn.cursor() #provides connection to database\n",
    "myCursor.execute(\"select product_name from FoodFacts limit 20;\")\n",
    "results = myCursor.fetchall()\n",
    "print(results)\n",
    "# conn.close()"
   ]
  },
  {
   "cell_type": "code",
   "execution_count": null,
   "metadata": {},
   "outputs": [],
   "source": []
  }
 ],
 "metadata": {
  "kernelspec": {
   "display_name": "Python 3",
   "language": "python",
   "name": "python3"
  },
  "language_info": {
   "codemirror_mode": {
    "name": "ipython",
    "version": 3
   },
   "file_extension": ".py",
   "mimetype": "text/x-python",
   "name": "python",
   "nbconvert_exporter": "python",
   "pygments_lexer": "ipython3",
   "version": "3.6.2"
  }
 },
 "nbformat": 4,
 "nbformat_minor": 2
}
