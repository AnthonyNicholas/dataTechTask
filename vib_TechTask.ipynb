{
 "cells": [
  {
   "cell_type": "code",
   "execution_count": 2,
   "metadata": {},
   "outputs": [],
   "source": [
    "#Vibrato tech task notebook\n",
    "import pandas as pd\n",
    "import numpy as np\n",
    "import sqlite3\n",
    "import csv"
   ]
  },
  {
   "cell_type": "code",
   "execution_count": 3,
   "metadata": {},
   "outputs": [],
   "source": [
    "#url = \"https://s3-ap-southeast-2.amazonaws.com/vibrato-data-test-public-datasets/world-food-facts.zip\"\n",
    "#df = pd.read_csv(url, compression = 'zip', sep='\\t',skiprows=(0),header=(0))"
   ]
  },
  {
   "cell_type": "code",
   "execution_count": 4,
   "metadata": {},
   "outputs": [],
   "source": [
    "foodTSV = 'en.openfoodfacts.org.products.tsv'"
   ]
  },
  {
   "cell_type": "code",
   "execution_count": 5,
   "metadata": {},
   "outputs": [
    {
     "name": "stdout",
     "output_type": "stream",
     "text": [
      "162\n"
     ]
    }
   ],
   "source": [
    "#open database file and csv reader (formatted for reading tsv)\n",
    "\n",
    "SQLITE_FILE = \"openFoodFacts.db\"\n",
    "conn = sqlite3.connect(SQLITE_FILE) #opens sqlite and database file\n",
    "myCursor = conn.cursor() #provides connection to database\n",
    "\n",
    "reader = csv.reader(open(foodTSV), delimiter='\\t')\n",
    "#print(reader.line_num)\n",
    "#print(dir(reader))\n",
    "headers = reader.__next__()\n",
    "print(len(headers))"
   ]
  },
  {
   "cell_type": "code",
   "execution_count": 10,
   "metadata": {},
   "outputs": [
    {
     "name": "stdout",
     "output_type": "stream",
     "text": [
      "CREATE TABLE FoodFacts (  code text, url text, creator text, created_t text, created_datetime text, last_modified_t text, last_modified_datetime text, product_name text, generic_name text, quantity text, packaging text, packaging_tags text, brands text, brands_tags text, categories text, categories_tags text, categories_en text, origins text, origins_tags text, manufacturing_places text, manufacturing_places_tags text, labels text, labels_tags text, labels_en text, emb_codes text, emb_codes_tags text, first_packaging_code_geo text, cities text, cities_tags text, purchase_places text, stores text, countries text, countries_tags text, countries_en text, ingredients_text text, allergens text, allergens_en text, traces text, traces_tags text, traces_en text, serving_size text, no_nutriments text, additives_n text, additives text, additives_tags text, additives_en text, ingredients_from_palm_oil_n text, ingredients_from_palm_oil text, ingredients_from_palm_oil_tags text, ingredients_that_may_be_from_palm_oil_n text, ingredients_that_may_be_from_palm_oil text, ingredients_that_may_be_from_palm_oil_tags text, nutrition_grade_uk text, nutrition_grade_fr text, pnns_groups_1 text, pnns_groups_2 text, states text, states_tags text, states_en text, main_category text, main_category_en text, image_url text, image_small_url text, energy_100g text, energy_from_fat_100g real, fat_100g real, saturated_fat_100g real, _butyric_acid_100g real, _caproic_acid_100g real, _caprylic_acid_100g real, _capric_acid_100g real, _lauric_acid_100g real, _myristic_acid_100g real, _palmitic_acid_100g real, _stearic_acid_100g real, _arachidic_acid_100g real, _behenic_acid_100g real, _lignoceric_acid_100g real, _cerotic_acid_100g real, _montanic_acid_100g real, _melissic_acid_100g real, monounsaturated_fat_100g real, polyunsaturated_fat_100g real, omega_3_fat_100g real, _alpha_linolenic_acid_100g real, _eicosapentaenoic_acid_100g real, _docosahexaenoic_acid_100g real, omega_6_fat_100g real, _linoleic_acid_100g real, _arachidonic_acid_100g real, _gamma_linolenic_acid_100g real, _dihomo_gamma_linolenic_acid_100g real, omega_9_fat_100g real, _oleic_acid_100g real, _elaidic_acid_100g real, _gondoic_acid_100g real, _mead_acid_100g real, _erucic_acid_100g real, _nervonic_acid_100g real, trans_fat_100g real, cholesterol_100g real, carbohydrates_100g real, sugars_100g real, _sucrose_100g real, _glucose_100g real, _fructose_100g real, _lactose_100g real, _maltose_100g real, _maltodextrins_100g real, starch_100g real, polyols_100g real, fiber_100g real, proteins_100g real, casein_100g real, serum_proteins_100g real, nucleotides_100g real, salt_100g real, sodium_100g real, alcohol_100g real, vitamin_a_100g real, beta_carotene_100g real, vitamin_d_100g real, vitamin_e_100g real, vitamin_k_100g real, vitamin_c_100g real, vitamin_b1_100g real, vitamin_b2_100g real, vitamin_pp_100g real, vitamin_b6_100g real, vitamin_b9_100g real, folates_100g real, vitamin_b12_100g real, biotin_100g real, pantothenic_acid_100g real, silica_100g real, bicarbonate_100g real, potassium_100g real, chloride_100g real, calcium_100g real, phosphorus_100g real, iron_100g real, magnesium_100g real, zinc_100g real, copper_100g real, manganese_100g real, fluoride_100g real, selenium_100g real, chromium_100g real, molybdenum_100g real, iodine_100g real, caffeine_100g real, taurine_100g real, ph_100g real, fruits_vegetables_nuts_100g real, collagen_meat_protein_ratio_100g real, cocoa_100g real, chlorophyl_100g real, carbon_footprint_100g real, nutrition_score_fr_100g real, nutrition_score_uk_100g real, glycemic_index_100g real, water_hardness_100g real);\n"
     ]
    },
    {
     "ename": "OperationalError",
     "evalue": "table FoodFacts already exists",
     "output_type": "error",
     "traceback": [
      "\u001b[0;31m---------------------------------------------------------------------------\u001b[0m",
      "\u001b[0;31mOperationalError\u001b[0m                          Traceback (most recent call last)",
      "\u001b[0;32m<ipython-input-10-57e2cfdfbf12>\u001b[0m in \u001b[0;36m<module>\u001b[0;34m()\u001b[0m\n\u001b[1;32m     17\u001b[0m \u001b[0mprint\u001b[0m\u001b[0;34m(\u001b[0m\u001b[0mdo_this_sqlite_1\u001b[0m\u001b[0;34m)\u001b[0m\u001b[0;34m\u001b[0m\u001b[0m\n\u001b[1;32m     18\u001b[0m \u001b[0;34m\u001b[0m\u001b[0m\n\u001b[0;32m---> 19\u001b[0;31m \u001b[0mmyCursor\u001b[0m\u001b[0;34m.\u001b[0m\u001b[0mexecute\u001b[0m\u001b[0;34m(\u001b[0m\u001b[0mdo_this_sqlite_1\u001b[0m\u001b[0;34m)\u001b[0m\u001b[0;34m\u001b[0m\u001b[0m\n\u001b[0m",
      "\u001b[0;31mOperationalError\u001b[0m: table FoodFacts already exists"
     ]
    }
   ],
   "source": [
    "# Create table in sqlite3.  First 64 entries have type text, the rest as real numbers.  \n",
    "\n",
    "do_this_sqlite_1 = \"CREATE TABLE FoodFacts ( \"\n",
    "\n",
    "for headerName in headers[:64]:\n",
    "    do_this_sqlite_1 += \" \" + headerName + \" text,\"\n",
    "\n",
    "for headerName in headers[64:]:\n",
    "    do_this_sqlite_1 += \" \" + headerName + \" real,\"\n",
    "    \n",
    "do_this_sqlite_1 = do_this_sqlite_1[:-1]\n",
    "\n",
    "do_this_sqlite_1 += \");\"\n",
    "\n",
    "do_this_sqlite_1 = do_this_sqlite_1.replace('-', '_') #sql doesn't seem to like hyphens\n",
    "\n",
    "print(do_this_sqlite_1)\n",
    "\n",
    "myCursor.execute(do_this_sqlite_1)"
   ]
  },
  {
   "cell_type": "code",
   "execution_count": 14,
   "metadata": {},
   "outputs": [
    {
     "name": "stdout",
     "output_type": "stream",
     "text": [
      "INSERT INTO FoodFacts VALUES ( ?,?,?,?,?,?,?,?,?,?,?,?,?,?,?,?,?,?,?,?,?,?,?,?,?,?,?,?,?,?,?,?,?,?,?,?,?,?,?,?,?,?,?,?,?,?,?,?,?,?,?,?,?,?,?,?,?,?,?,?,?,?,?,?,?,?,?,?,?,?,?,?,?,?,?,?,?,?,?,?,?,?,?,?,?,?,?,?,?,?,?,?,?,?,?,?,?,?,?,?,?,?,?,?,?,?,?,?,?,?,?,?,?,?,?,?,?,?,?,?,?,?,?,?,?,?,?,?,?,?,?,?,?,?,?,?,?,?,?,?,?,?,?,?,?,?,?,?,?,?,?,?,?,?,?,?,?,?,?,?,?,?)\n",
      "rowErrors = 48\n"
     ]
    }
   ],
   "source": [
    "#Insert values from tsv file into table\n",
    "\n",
    "do_this_sqlite = \"INSERT INTO FoodFacts VALUES ( \"\n",
    "do_this_sqlite += \"?,\" * len(headers)\n",
    "do_this_sqlite = do_this_sqlite[:-1]\n",
    "do_this_sqlite += \")\"\n",
    "\n",
    "print(do_this_sqlite)\n",
    "\n",
    "rowErrors = 0\n",
    "\n",
    "for row in reader:\n",
    "    try:\n",
    "        myCursor.execute(do_this_sqlite,row)\n",
    "    except:\n",
    "        rowErrors += 1\n",
    "        \n",
    "print(\"rowErrors = {}\".format(rowErrors))\n",
    "    \n",
    "conn.commit()"
   ]
  },
  {
   "cell_type": "code",
   "execution_count": 9,
   "metadata": {},
   "outputs": [
    {
     "name": "stdout",
     "output_type": "stream",
     "text": [
      "[(0, 'code', 'text', 0, None, 0), (1, 'url', 'text', 0, None, 0), (2, 'creator', 'text', 0, None, 0), (3, 'created_t', 'text', 0, None, 0), (4, 'created_datetime', 'text', 0, None, 0), (5, 'last_modified_t', 'text', 0, None, 0), (6, 'last_modified_datetime', 'text', 0, None, 0), (7, 'product_name', 'text', 0, None, 0), (8, 'generic_name', 'text', 0, None, 0), (9, 'quantity', 'text', 0, None, 0), (10, 'packaging', 'text', 0, None, 0), (11, 'packaging_tags', 'text', 0, None, 0), (12, 'brands', 'text', 0, None, 0), (13, 'brands_tags', 'text', 0, None, 0), (14, 'categories', 'text', 0, None, 0), (15, 'categories_tags', 'text', 0, None, 0), (16, 'categories_en', 'text', 0, None, 0), (17, 'origins', 'text', 0, None, 0), (18, 'origins_tags', 'text', 0, None, 0), (19, 'manufacturing_places', 'text', 0, None, 0), (20, 'manufacturing_places_tags', 'text', 0, None, 0), (21, 'labels', 'text', 0, None, 0), (22, 'labels_tags', 'text', 0, None, 0), (23, 'labels_en', 'text', 0, None, 0), (24, 'emb_codes', 'text', 0, None, 0), (25, 'emb_codes_tags', 'text', 0, None, 0), (26, 'first_packaging_code_geo', 'text', 0, None, 0), (27, 'cities', 'text', 0, None, 0), (28, 'cities_tags', 'text', 0, None, 0), (29, 'purchase_places', 'text', 0, None, 0), (30, 'stores', 'text', 0, None, 0), (31, 'countries', 'text', 0, None, 0), (32, 'countries_tags', 'text', 0, None, 0), (33, 'countries_en', 'text', 0, None, 0), (34, 'ingredients_text', 'text', 0, None, 0), (35, 'allergens', 'text', 0, None, 0), (36, 'allergens_en', 'text', 0, None, 0), (37, 'traces', 'text', 0, None, 0), (38, 'traces_tags', 'text', 0, None, 0), (39, 'traces_en', 'text', 0, None, 0), (40, 'serving_size', 'text', 0, None, 0), (41, 'no_nutriments', 'text', 0, None, 0), (42, 'additives_n', 'text', 0, None, 0), (43, 'additives', 'text', 0, None, 0), (44, 'additives_tags', 'text', 0, None, 0), (45, 'additives_en', 'text', 0, None, 0), (46, 'ingredients_from_palm_oil_n', 'text', 0, None, 0), (47, 'ingredients_from_palm_oil', 'text', 0, None, 0), (48, 'ingredients_from_palm_oil_tags', 'text', 0, None, 0), (49, 'ingredients_that_may_be_from_palm_oil_n', 'text', 0, None, 0), (50, 'ingredients_that_may_be_from_palm_oil', 'text', 0, None, 0), (51, 'ingredients_that_may_be_from_palm_oil_tags', 'text', 0, None, 0), (52, 'nutrition_grade_uk', 'text', 0, None, 0), (53, 'nutrition_grade_fr', 'text', 0, None, 0), (54, 'pnns_groups_1', 'text', 0, None, 0), (55, 'pnns_groups_2', 'text', 0, None, 0), (56, 'states', 'text', 0, None, 0), (57, 'states_tags', 'text', 0, None, 0), (58, 'states_en', 'text', 0, None, 0), (59, 'main_category', 'text', 0, None, 0), (60, 'main_category_en', 'text', 0, None, 0), (61, 'image_url', 'text', 0, None, 0), (62, 'image_small_url', 'text', 0, None, 0), (63, 'energy_100g', 'text', 0, None, 0), (64, 'energy_from_fat_100g', 'real', 0, None, 0), (65, 'fat_100g', 'real', 0, None, 0), (66, 'saturated_fat_100g', 'real', 0, None, 0), (67, '_butyric_acid_100g', 'real', 0, None, 0), (68, '_caproic_acid_100g', 'real', 0, None, 0), (69, '_caprylic_acid_100g', 'real', 0, None, 0), (70, '_capric_acid_100g', 'real', 0, None, 0), (71, '_lauric_acid_100g', 'real', 0, None, 0), (72, '_myristic_acid_100g', 'real', 0, None, 0), (73, '_palmitic_acid_100g', 'real', 0, None, 0), (74, '_stearic_acid_100g', 'real', 0, None, 0), (75, '_arachidic_acid_100g', 'real', 0, None, 0), (76, '_behenic_acid_100g', 'real', 0, None, 0), (77, '_lignoceric_acid_100g', 'real', 0, None, 0), (78, '_cerotic_acid_100g', 'real', 0, None, 0), (79, '_montanic_acid_100g', 'real', 0, None, 0), (80, '_melissic_acid_100g', 'real', 0, None, 0), (81, 'monounsaturated_fat_100g', 'real', 0, None, 0), (82, 'polyunsaturated_fat_100g', 'real', 0, None, 0), (83, 'omega_3_fat_100g', 'real', 0, None, 0), (84, '_alpha_linolenic_acid_100g', 'real', 0, None, 0), (85, '_eicosapentaenoic_acid_100g', 'real', 0, None, 0), (86, '_docosahexaenoic_acid_100g', 'real', 0, None, 0), (87, 'omega_6_fat_100g', 'real', 0, None, 0), (88, '_linoleic_acid_100g', 'real', 0, None, 0), (89, '_arachidonic_acid_100g', 'real', 0, None, 0), (90, '_gamma_linolenic_acid_100g', 'real', 0, None, 0), (91, '_dihomo_gamma_linolenic_acid_100g', 'real', 0, None, 0), (92, 'omega_9_fat_100g', 'real', 0, None, 0), (93, '_oleic_acid_100g', 'real', 0, None, 0), (94, '_elaidic_acid_100g', 'real', 0, None, 0), (95, '_gondoic_acid_100g', 'real', 0, None, 0), (96, '_mead_acid_100g', 'real', 0, None, 0), (97, '_erucic_acid_100g', 'real', 0, None, 0), (98, '_nervonic_acid_100g', 'real', 0, None, 0), (99, 'trans_fat_100g', 'real', 0, None, 0), (100, 'cholesterol_100g', 'real', 0, None, 0), (101, 'carbohydrates_100g', 'real', 0, None, 0), (102, 'sugars_100g', 'real', 0, None, 0), (103, '_sucrose_100g', 'real', 0, None, 0), (104, '_glucose_100g', 'real', 0, None, 0), (105, '_fructose_100g', 'real', 0, None, 0), (106, '_lactose_100g', 'real', 0, None, 0), (107, '_maltose_100g', 'real', 0, None, 0), (108, '_maltodextrins_100g', 'real', 0, None, 0), (109, 'starch_100g', 'real', 0, None, 0), (110, 'polyols_100g', 'real', 0, None, 0), (111, 'fiber_100g', 'real', 0, None, 0), (112, 'proteins_100g', 'real', 0, None, 0), (113, 'casein_100g', 'real', 0, None, 0), (114, 'serum_proteins_100g', 'real', 0, None, 0), (115, 'nucleotides_100g', 'real', 0, None, 0), (116, 'salt_100g', 'real', 0, None, 0), (117, 'sodium_100g', 'real', 0, None, 0), (118, 'alcohol_100g', 'real', 0, None, 0), (119, 'vitamin_a_100g', 'real', 0, None, 0), (120, 'beta_carotene_100g', 'real', 0, None, 0), (121, 'vitamin_d_100g', 'real', 0, None, 0), (122, 'vitamin_e_100g', 'real', 0, None, 0), (123, 'vitamin_k_100g', 'real', 0, None, 0), (124, 'vitamin_c_100g', 'real', 0, None, 0), (125, 'vitamin_b1_100g', 'real', 0, None, 0), (126, 'vitamin_b2_100g', 'real', 0, None, 0), (127, 'vitamin_pp_100g', 'real', 0, None, 0), (128, 'vitamin_b6_100g', 'real', 0, None, 0), (129, 'vitamin_b9_100g', 'real', 0, None, 0), (130, 'folates_100g', 'real', 0, None, 0), (131, 'vitamin_b12_100g', 'real', 0, None, 0), (132, 'biotin_100g', 'real', 0, None, 0), (133, 'pantothenic_acid_100g', 'real', 0, None, 0), (134, 'silica_100g', 'real', 0, None, 0), (135, 'bicarbonate_100g', 'real', 0, None, 0), (136, 'potassium_100g', 'real', 0, None, 0), (137, 'chloride_100g', 'real', 0, None, 0), (138, 'calcium_100g', 'real', 0, None, 0), (139, 'phosphorus_100g', 'real', 0, None, 0), (140, 'iron_100g', 'real', 0, None, 0), (141, 'magnesium_100g', 'real', 0, None, 0), (142, 'zinc_100g', 'real', 0, None, 0), (143, 'copper_100g', 'real', 0, None, 0), (144, 'manganese_100g', 'real', 0, None, 0), (145, 'fluoride_100g', 'real', 0, None, 0), (146, 'selenium_100g', 'real', 0, None, 0), (147, 'chromium_100g', 'real', 0, None, 0), (148, 'molybdenum_100g', 'real', 0, None, 0), (149, 'iodine_100g', 'real', 0, None, 0), (150, 'caffeine_100g', 'real', 0, None, 0), (151, 'taurine_100g', 'real', 0, None, 0), (152, 'ph_100g', 'real', 0, None, 0), (153, 'fruits_vegetables_nuts_100g', 'real', 0, None, 0), (154, 'collagen_meat_protein_ratio_100g', 'real', 0, None, 0), (155, 'cocoa_100g', 'real', 0, None, 0), (156, 'chlorophyl_100g', 'real', 0, None, 0), (157, 'carbon_footprint_100g', 'real', 0, None, 0), (158, 'nutrition_score_fr_100g', 'real', 0, None, 0), (159, 'nutrition_score_uk_100g', 'real', 0, None, 0), (160, 'glycemic_index_100g', 'real', 0, None, 0), (161, 'water_hardness_100g', 'real', 0, None, 0)]\n"
     ]
    }
   ],
   "source": [
    "SQLITE_FILE = \"openFoodFacts.db\"\n",
    "conn = sqlite3.connect(SQLITE_FILE) #opens sqlite and database file\n",
    "myCursor = conn.cursor() #provides connection to database\n",
    "myCursor.execute(\"PRAGMA table_info(FoodFacts);\")\n",
    "results = myCursor.fetchall()\n",
    "# print(results)\n",
    "# conn.close()"
   ]
  },
  {
   "cell_type": "code",
   "execution_count": 6,
   "metadata": {},
   "outputs": [
    {
     "name": "stdout",
     "output_type": "stream",
     "text": [
      "[('Farine de blé noir',), ('Banana Chips Sweetened (Whole)',), ('Peanuts',), ('Organic Salted Nut Mix',), ('Organic Polenta',), ('Breadshop Honey Gone Nuts Granola',), ('Organic Long Grain White Rice',), ('Organic Muesli',), ('Organic Dark Chocolate Minis',), ('Organic Sunflower Oil',), ('Organic Adzuki Beans',), ('Organic Penne Pasta',), ('Zen Party Mix',), ('Organic Golden Flax Seeds',), ('Organic Spicy Punks',), ('Cinnamon Nut Granola',), ('Organic Hazelnuts',), ('Organic Sweetened Banana Chips',), ('Lotus Organic Brown Jasmine Rice',), ('Organic Oat Groats',)]\n"
     ]
    }
   ],
   "source": [
    "SQLITE_FILE = \"openFoodFacts.db\"\n",
    "conn = sqlite3.connect(SQLITE_FILE) #opens sqlite and database file\n",
    "myCursor = conn.cursor() #provides connection to database\n",
    "myCursor.execute(\"select product_name from FoodFacts limit 20;\")\n",
    "results = myCursor.fetchall()\n",
    "print(results)\n",
    "# conn.close()"
   ]
  },
  {
   "cell_type": "code",
   "execution_count": 7,
   "metadata": {},
   "outputs": [
    {
     "data": {
      "text/html": [
       "<div>\n",
       "<style scoped>\n",
       "    .dataframe tbody tr th:only-of-type {\n",
       "        vertical-align: middle;\n",
       "    }\n",
       "\n",
       "    .dataframe tbody tr th {\n",
       "        vertical-align: top;\n",
       "    }\n",
       "\n",
       "    .dataframe thead th {\n",
       "        text-align: right;\n",
       "    }\n",
       "</style>\n",
       "<table border=\"1\" class=\"dataframe\">\n",
       "  <thead>\n",
       "    <tr style=\"text-align: right;\">\n",
       "      <th></th>\n",
       "      <th>product_name</th>\n",
       "      <th>energy_100g</th>\n",
       "      <th>origins</th>\n",
       "      <th>manufacturing_places</th>\n",
       "      <th>purchase_places</th>\n",
       "      <th>countries</th>\n",
       "    </tr>\n",
       "  </thead>\n",
       "  <tbody>\n",
       "    <tr>\n",
       "      <th>332239</th>\n",
       "      <td>Choc Peanut Butter</td>\n",
       "      <td>397</td>\n",
       "      <td></td>\n",
       "      <td>Australia</td>\n",
       "      <td>Melbourne,Victoria,Australia</td>\n",
       "      <td>Australia</td>\n",
       "    </tr>\n",
       "    <tr>\n",
       "      <th>332525</th>\n",
       "      <td>Peanut Butter Crunchy - No added Salt</td>\n",
       "      <td>2670</td>\n",
       "      <td>Australia</td>\n",
       "      <td>Australia</td>\n",
       "      <td>NSW,Australia</td>\n",
       "      <td>Australia</td>\n",
       "    </tr>\n",
       "    <tr>\n",
       "      <th>333127</th>\n",
       "      <td>Ridiculously Delicious Peanut Butter Super Smooth</td>\n",
       "      <td>2600</td>\n",
       "      <td>Kingaroy,Queensland,Australia</td>\n",
       "      <td></td>\n",
       "      <td>Melbourne,Victoria,Australia</td>\n",
       "      <td>Australia</td>\n",
       "    </tr>\n",
       "    <tr>\n",
       "      <th>332049</th>\n",
       "      <td>natural peanut butter crunchy</td>\n",
       "      <td>2560</td>\n",
       "      <td></td>\n",
       "      <td></td>\n",
       "      <td>Brisbane,Australia</td>\n",
       "      <td>Australia</td>\n",
       "    </tr>\n",
       "    <tr>\n",
       "      <th>187095</th>\n",
       "      <td>Bramwells Peanut Butter Crunchy</td>\n",
       "      <td>2530</td>\n",
       "      <td>Argentina</td>\n",
       "      <td>Argentina</td>\n",
       "      <td>NSW,Australia</td>\n",
       "      <td>Australia</td>\n",
       "    </tr>\n",
       "    <tr>\n",
       "      <th>184505</th>\n",
       "      <td>Bramwells American Style Peanut Butter</td>\n",
       "      <td>2470</td>\n",
       "      <td>United States</td>\n",
       "      <td>United States</td>\n",
       "      <td>Kempsey,NSW,Australia</td>\n",
       "      <td>Australia</td>\n",
       "    </tr>\n",
       "    <tr>\n",
       "      <th>331533</th>\n",
       "      <td>Smooth Peanut Butter</td>\n",
       "      <td>2380</td>\n",
       "      <td>Imported Unknown,India</td>\n",
       "      <td>India</td>\n",
       "      <td>Sydney,NSW</td>\n",
       "      <td>Australia</td>\n",
       "    </tr>\n",
       "    <tr>\n",
       "      <th>29220</th>\n",
       "      <td>Reeses Peanut Butter Cups</td>\n",
       "      <td></td>\n",
       "      <td>United States</td>\n",
       "      <td>United States</td>\n",
       "      <td></td>\n",
       "      <td>Australia</td>\n",
       "    </tr>\n",
       "    <tr>\n",
       "      <th>187207</th>\n",
       "      <td>American Style Peanut Butter Crunchy</td>\n",
       "      <td></td>\n",
       "      <td>United States</td>\n",
       "      <td>United States</td>\n",
       "      <td>Wyoming,NSW,Australia</td>\n",
       "      <td>Australia</td>\n",
       "    </tr>\n",
       "    <tr>\n",
       "      <th>331531</th>\n",
       "      <td>Crunchy Peanut Butter</td>\n",
       "      <td></td>\n",
       "      <td>China</td>\n",
       "      <td>China</td>\n",
       "      <td>NSW,Australia</td>\n",
       "      <td>Australia</td>\n",
       "    </tr>\n",
       "  </tbody>\n",
       "</table>\n",
       "</div>"
      ],
      "text/plain": [
       "                                             product_name energy_100g  \\\n",
       "332239                                 Choc Peanut Butter         397   \n",
       "332525              Peanut Butter Crunchy - No added Salt        2670   \n",
       "333127  Ridiculously Delicious Peanut Butter Super Smooth        2600   \n",
       "332049                      natural peanut butter crunchy        2560   \n",
       "187095                    Bramwells Peanut Butter Crunchy        2530   \n",
       "184505             Bramwells American Style Peanut Butter        2470   \n",
       "331533                               Smooth Peanut Butter        2380   \n",
       "29220                           Reeses Peanut Butter Cups               \n",
       "187207               American Style Peanut Butter Crunchy               \n",
       "331531                              Crunchy Peanut Butter               \n",
       "\n",
       "                              origins manufacturing_places  \\\n",
       "332239                                           Australia   \n",
       "332525                      Australia            Australia   \n",
       "333127  Kingaroy,Queensland,Australia                        \n",
       "332049                                                       \n",
       "187095                      Argentina            Argentina   \n",
       "184505                  United States        United States   \n",
       "331533         Imported Unknown,India                India   \n",
       "29220                   United States        United States   \n",
       "187207                  United States        United States   \n",
       "331531                          China                China   \n",
       "\n",
       "                     purchase_places  countries  \n",
       "332239  Melbourne,Victoria,Australia  Australia  \n",
       "332525                 NSW,Australia  Australia  \n",
       "333127  Melbourne,Victoria,Australia  Australia  \n",
       "332049            Brisbane,Australia  Australia  \n",
       "187095                 NSW,Australia  Australia  \n",
       "184505         Kempsey,NSW,Australia  Australia  \n",
       "331533                    Sydney,NSW  Australia  \n",
       "29220                                 Australia  \n",
       "187207         Wyoming,NSW,Australia  Australia  \n",
       "331531                 NSW,Australia  Australia  "
      ]
     },
     "execution_count": 7,
     "metadata": {},
     "output_type": "execute_result"
    }
   ],
   "source": [
    "#Open sqlite file and retrieve peanut butter information - List the Top 5 Peanut Butters based in \n",
    "#Australia and sorted by highest Energy content per 100g\n",
    "\n",
    "SQLITE_FILE = \"openFoodFacts.db\"\n",
    "conn = sqlite3.connect(SQLITE_FILE) #opens sqlite and database file\n",
    "peanut_frame = pd.read_sql_query(\"SELECT product_name, energy_100g, origins, manufacturing_places, purchase_places, countries from FoodFacts\", conn)\n",
    "#peanut_frame.head(2)\n",
    "peanut_frame = peanut_frame[peanut_frame['product_name'].str.contains(\"peanut butter\", case=False, na=False)]\n",
    "peanut_frame = peanut_frame[peanut_frame['countries'].str.contains(\"Australia\", case=False, na=False)]\n",
    "peanut_frame = peanut_frame.sort_values(by=['energy_100g'], ascending=False)\n",
    "peanut_frame.head(10)\n",
    "# conn.close()"
   ]
  },
  {
   "cell_type": "code",
   "execution_count": 49,
   "metadata": {},
   "outputs": [
    {
     "data": {
      "text/html": [
       "<div>\n",
       "<style scoped>\n",
       "    .dataframe tbody tr th:only-of-type {\n",
       "        vertical-align: middle;\n",
       "    }\n",
       "\n",
       "    .dataframe tbody tr th {\n",
       "        vertical-align: top;\n",
       "    }\n",
       "\n",
       "    .dataframe thead th {\n",
       "        text-align: right;\n",
       "    }\n",
       "</style>\n",
       "<table border=\"1\" class=\"dataframe\">\n",
       "  <thead>\n",
       "    <tr style=\"text-align: right;\">\n",
       "      <th></th>\n",
       "      <th>countries</th>\n",
       "      <th>COUNT(product_name)</th>\n",
       "    </tr>\n",
       "  </thead>\n",
       "  <tbody>\n",
       "    <tr>\n",
       "      <th>0</th>\n",
       "      <td>US</td>\n",
       "      <td>2714</td>\n",
       "    </tr>\n",
       "    <tr>\n",
       "      <th>1</th>\n",
       "      <td>France</td>\n",
       "      <td>149</td>\n",
       "    </tr>\n",
       "    <tr>\n",
       "      <th>2</th>\n",
       "      <td>Suisse</td>\n",
       "      <td>54</td>\n",
       "    </tr>\n",
       "    <tr>\n",
       "      <th>3</th>\n",
       "      <td>United States</td>\n",
       "      <td>52</td>\n",
       "    </tr>\n",
       "    <tr>\n",
       "      <th>4</th>\n",
       "      <td>Deutschland</td>\n",
       "      <td>39</td>\n",
       "    </tr>\n",
       "    <tr>\n",
       "      <th>5</th>\n",
       "      <td>Canada</td>\n",
       "      <td>10</td>\n",
       "    </tr>\n",
       "    <tr>\n",
       "      <th>6</th>\n",
       "      <td>España</td>\n",
       "      <td>10</td>\n",
       "    </tr>\n",
       "    <tr>\n",
       "      <th>7</th>\n",
       "      <td>en:US</td>\n",
       "      <td>10</td>\n",
       "    </tr>\n",
       "    <tr>\n",
       "      <th>8</th>\n",
       "      <td>Россия</td>\n",
       "      <td>5</td>\n",
       "    </tr>\n",
       "    <tr>\n",
       "      <th>9</th>\n",
       "      <td>Belgique,France</td>\n",
       "      <td>4</td>\n",
       "    </tr>\n",
       "  </tbody>\n",
       "</table>\n",
       "</div>"
      ],
      "text/plain": [
       "         countries  COUNT(product_name)\n",
       "0               US                 2714\n",
       "1           France                  149\n",
       "2           Suisse                   54\n",
       "3    United States                   52\n",
       "4      Deutschland                   39\n",
       "5           Canada                   10\n",
       "6           España                   10\n",
       "7            en:US                   10\n",
       "8           Россия                    5\n",
       "9  Belgique,France                    4"
      ]
     },
     "execution_count": 49,
     "metadata": {},
     "output_type": "execute_result"
    }
   ],
   "source": [
    "#Open sqlite file and retrieve zinc information - list the Top 10 Countries together with the number of \n",
    "#products with Zinc content above ‘0.001’ and that have more than one product\n",
    "\n",
    "SQLITE_FILE = \"openFoodFacts.db\"\n",
    "conn = sqlite3.connect(SQLITE_FILE) #opens sqlite and database file\n",
    "zinc_frame = pd.read_sql_query('''SELECT countries, COUNT(product_name)\n",
    "FROM FoodFacts \n",
    "WHERE zinc_100g IS NOT \"\"\n",
    "AND zinc_100g IS NOT NULL \n",
    "AND zinc_100g > 0.001\n",
    "GROUP BY countries\n",
    "HAVING COUNT(product_name) > 1\n",
    "ORDER BY COUNT(product_name) DESC\n",
    "LIMIT 10''', conn)\n",
    "zinc_frame.head(20)"
   ]
  },
  {
   "cell_type": "code",
   "execution_count": null,
   "metadata": {},
   "outputs": [],
   "source": [
    "#zinc_frame = zinc_frame[zinc_frame['zinc_100g'] > 1E-3]\n"
   ]
  }
 ],
 "metadata": {
  "kernelspec": {
   "display_name": "Python 3",
   "language": "python",
   "name": "python3"
  },
  "language_info": {
   "codemirror_mode": {
    "name": "ipython",
    "version": 3
   },
   "file_extension": ".py",
   "mimetype": "text/x-python",
   "name": "python",
   "nbconvert_exporter": "python",
   "pygments_lexer": "ipython3",
   "version": "3.6.2"
  }
 },
 "nbformat": 4,
 "nbformat_minor": 2
}
