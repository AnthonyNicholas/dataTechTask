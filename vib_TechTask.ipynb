{
 "cells": [
  {
   "cell_type": "code",
   "execution_count": 1,
   "metadata": {},
   "outputs": [],
   "source": [
    "#Tech Task: Task 1\n",
    "\n",
    "#Steps: Write the code to perform an ETL process to extract a data set from the supplied source and persist in an \n",
    "# accessible format. Load the data in a database of your choice and write the queries to get the below data \n",
    "# outputs.  Visualise the results in the tooling of your choice\n",
    "\n",
    "#Output: List the Top 5 Peanut Butters based in Australia and sorted them by highest Energy content per 100g List \n",
    "#the Top 10 Countries together with the number of products with Zinc content above ‘0.001’ and that have more than one product\n",
    "#Grouping product categories by those that contain Chicken, Pork and Tofu list their Average, Median and Standard \n",
    "# Deviation Protein content per 100g, excluding data that is not available (NaN)\n",
    "\n",
    "\n",
    "import pandas as pd\n",
    "import numpy as np\n",
    "import sqlite3\n",
    "import csv\n",
    "import urllib\n",
    "from zipfile import ZipFile"
   ]
  },
  {
   "cell_type": "code",
   "execution_count": 9,
   "metadata": {},
   "outputs": [],
   "source": [
    "#Retrieve, save and unzip file\n",
    "url = \"https://s3-ap-southeast-2.amazonaws.com/vibrato-data-test-public-datasets/world-food-facts.zip\"\n",
    "urllib.request.urlretrieve (url, \"world-food-facts.zip\")\n",
    "zf = ZipFile(\"world-food-facts.zip\")\n",
    "zf.extractall(path = './')\n",
    "zf.close()"
   ]
  },
  {
   "cell_type": "code",
   "execution_count": 3,
   "metadata": {},
   "outputs": [],
   "source": [
    "foodTSV = 'en.openfoodfacts.org.products.tsv'"
   ]
  },
  {
   "cell_type": "code",
   "execution_count": 13,
   "metadata": {},
   "outputs": [
    {
     "name": "stdout",
     "output_type": "stream",
     "text": [
      "162\n"
     ]
    }
   ],
   "source": [
    "#open database file and csv reader (formatted for reading tsv)\n",
    "\n",
    "SQLITE_FILE = \"openFoodFacts.db\"\n",
    "conn = sqlite3.connect(SQLITE_FILE) #opens sqlite and database file\n",
    "myCursor = conn.cursor() #provides connection to database\n",
    "\n",
    "reader = csv.reader(open(foodTSV), delimiter='\\t')\n",
    "headers = reader.__next__()\n",
    "print(len(headers))"
   ]
  },
  {
   "cell_type": "code",
   "execution_count": 15,
   "metadata": {},
   "outputs": [
    {
     "data": {
      "text/plain": [
       "<sqlite3.Cursor at 0x7f1ffa352f80>"
      ]
     },
     "execution_count": 15,
     "metadata": {},
     "output_type": "execute_result"
    }
   ],
   "source": [
    "# Create table in sqlite3.  First 64 entries have type text, the rest have type real.  \n",
    "\n",
    "do_this_sqlite_1 = \"CREATE TABLE IF NOT EXISTS FoodFacts ( \"\n",
    "\n",
    "for headerName in headers[:64]:\n",
    "    do_this_sqlite_1 += \" \" + headerName + \" text,\"\n",
    "\n",
    "for headerName in headers[64:]:\n",
    "    do_this_sqlite_1 += \" \" + headerName + \" real,\"\n",
    "    \n",
    "do_this_sqlite_1 = do_this_sqlite_1[:-1]\n",
    "\n",
    "do_this_sqlite_1 += \");\"\n",
    "\n",
    "do_this_sqlite_1 = do_this_sqlite_1.replace('-', '_') #sql doesn't seem to like hyphens\n",
    "\n",
    "# print(do_this_sqlite_1)\n",
    "\n",
    "myCursor.execute(do_this_sqlite_1)"
   ]
  },
  {
   "cell_type": "code",
   "execution_count": 14,
   "metadata": {},
   "outputs": [
    {
     "name": "stdout",
     "output_type": "stream",
     "text": [
      "INSERT INTO FoodFacts VALUES ( ?,?,?,?,?,?,?,?,?,?,?,?,?,?,?,?,?,?,?,?,?,?,?,?,?,?,?,?,?,?,?,?,?,?,?,?,?,?,?,?,?,?,?,?,?,?,?,?,?,?,?,?,?,?,?,?,?,?,?,?,?,?,?,?,?,?,?,?,?,?,?,?,?,?,?,?,?,?,?,?,?,?,?,?,?,?,?,?,?,?,?,?,?,?,?,?,?,?,?,?,?,?,?,?,?,?,?,?,?,?,?,?,?,?,?,?,?,?,?,?,?,?,?,?,?,?,?,?,?,?,?,?,?,?,?,?,?,?,?,?,?,?,?,?,?,?,?,?,?,?,?,?,?,?,?,?,?,?,?,?,?,?)\n",
      "rowErrors = 48\n"
     ]
    }
   ],
   "source": [
    "#Insert values from tsv file into table\n",
    "\n",
    "do_this_sqlite = \"INSERT INTO FoodFacts VALUES ( \"\n",
    "do_this_sqlite += \"?,\" * len(headers)\n",
    "do_this_sqlite = do_this_sqlite[:-1]\n",
    "do_this_sqlite += \")\"\n",
    "\n",
    "print(do_this_sqlite)\n",
    "\n",
    "rowErrors = 0\n",
    "\n",
    "for row in reader:\n",
    "    try:\n",
    "        myCursor.execute(do_this_sqlite,row)\n",
    "    except:\n",
    "        rowErrors += 1\n",
    "        \n",
    "print(\"rowErrors = {}\".format(rowErrors))\n",
    "    \n",
    "conn.commit()"
   ]
  },
  {
   "cell_type": "code",
   "execution_count": 33,
   "metadata": {},
   "outputs": [],
   "source": [
    "#PEANUT BUTTER TASK Open sqlite file and retrieve peanut butter information - List the Top 5 Peanut Butters based in \n",
    "#Australia and sorted by highest Energy content per 100g\n",
    "\n",
    "#Based in australia is a little ambiguous - I have interpreted this to mean countries column contains Australia.\n",
    "\n",
    "SQLITE_FILE = \"openFoodFacts.db\"\n",
    "conn = sqlite3.connect(SQLITE_FILE) #opens sqlite and database file\n",
    "peanut_frame = pd.read_sql_query('''\n",
    "SELECT product_name, energy_100g, origins, manufacturing_places, purchase_places, countries \n",
    "FROM FoodFacts\n",
    "''', conn)"
   ]
  },
  {
   "cell_type": "code",
   "execution_count": 34,
   "metadata": {},
   "outputs": [
    {
     "data": {
      "text/html": [
       "<div>\n",
       "<style scoped>\n",
       "    .dataframe tbody tr th:only-of-type {\n",
       "        vertical-align: middle;\n",
       "    }\n",
       "\n",
       "    .dataframe tbody tr th {\n",
       "        vertical-align: top;\n",
       "    }\n",
       "\n",
       "    .dataframe thead th {\n",
       "        text-align: right;\n",
       "    }\n",
       "</style>\n",
       "<table border=\"1\" class=\"dataframe\">\n",
       "  <thead>\n",
       "    <tr style=\"text-align: right;\">\n",
       "      <th></th>\n",
       "      <th>product_name</th>\n",
       "      <th>energy_100g</th>\n",
       "    </tr>\n",
       "  </thead>\n",
       "  <tbody>\n",
       "    <tr>\n",
       "      <th>332525</th>\n",
       "      <td>Peanut Butter Crunchy - No added Salt</td>\n",
       "      <td>2670.0</td>\n",
       "    </tr>\n",
       "    <tr>\n",
       "      <th>333127</th>\n",
       "      <td>Ridiculously Delicious Peanut Butter Super Smooth</td>\n",
       "      <td>2600.0</td>\n",
       "    </tr>\n",
       "    <tr>\n",
       "      <th>332049</th>\n",
       "      <td>natural peanut butter crunchy</td>\n",
       "      <td>2560.0</td>\n",
       "    </tr>\n",
       "    <tr>\n",
       "      <th>187095</th>\n",
       "      <td>Bramwells Peanut Butter Crunchy</td>\n",
       "      <td>2530.0</td>\n",
       "    </tr>\n",
       "    <tr>\n",
       "      <th>184505</th>\n",
       "      <td>Bramwells American Style Peanut Butter</td>\n",
       "      <td>2470.0</td>\n",
       "    </tr>\n",
       "  </tbody>\n",
       "</table>\n",
       "</div>"
      ],
      "text/plain": [
       "                                             product_name  energy_100g\n",
       "332525              Peanut Butter Crunchy - No added Salt       2670.0\n",
       "333127  Ridiculously Delicious Peanut Butter Super Smooth       2600.0\n",
       "332049                      natural peanut butter crunchy       2560.0\n",
       "187095                    Bramwells Peanut Butter Crunchy       2530.0\n",
       "184505             Bramwells American Style Peanut Butter       2470.0"
      ]
     },
     "execution_count": 34,
     "metadata": {},
     "output_type": "execute_result"
    }
   ],
   "source": [
    "peanut_frame = peanut_frame[peanut_frame['product_name'].str.contains(\"peanut butter\", case=False, na=False)]\n",
    "peanut_frame = peanut_frame[peanut_frame['countries'].str.contains(\"Australia\", case=False, na=False)]\n",
    "peanut_frame = peanut_frame.loc[:, 'product_name':'energy_100g']\n",
    "peanut_frame['energy_100g'] = peanut_frame['energy_100g'].replace('', np.nan)\n",
    "peanut_frame['energy_100g'] = peanut_frame['energy_100g'].astype(float)\n",
    "peanut_frame = peanut_frame.sort_values(by='energy_100g', ascending=False)\n",
    "peanut_frame = peanut_frame.head(5)\n",
    "peanut_frame.to_html('aust_peanuts_with_highest_energy_100g.html')\n",
    "peanut_frame.head(5)"
   ]
  },
  {
   "cell_type": "code",
   "execution_count": 36,
   "metadata": {},
   "outputs": [],
   "source": [
    "#ZINC TASK Open sqlite file and retrieve zinc information - list the Top 10 Countries together with the number of \n",
    "#products with Zinc content above ‘0.001’ and that have more than one product\n",
    "\n",
    "SQLITE_FILE = \"openFoodFacts.db\"\n",
    "conn = sqlite3.connect(SQLITE_FILE) #opens sqlite and database file\n",
    "zinc_frame = pd.read_sql_query('''SELECT countries, COUNT(product_name)\n",
    "FROM FoodFacts \n",
    "WHERE zinc_100g IS NOT \"\"\n",
    "AND zinc_100g IS NOT NULL \n",
    "AND zinc_100g > 0.001\n",
    "GROUP BY countries\n",
    "HAVING COUNT(product_name) > 1\n",
    "ORDER BY COUNT(product_name) DESC\n",
    "LIMIT 15''', conn)"
   ]
  },
  {
   "cell_type": "code",
   "execution_count": 61,
   "metadata": {},
   "outputs": [
    {
     "data": {
      "text/html": [
       "<div>\n",
       "<style scoped>\n",
       "    .dataframe tbody tr th:only-of-type {\n",
       "        vertical-align: middle;\n",
       "    }\n",
       "\n",
       "    .dataframe tbody tr th {\n",
       "        vertical-align: top;\n",
       "    }\n",
       "\n",
       "    .dataframe thead th {\n",
       "        text-align: right;\n",
       "    }\n",
       "</style>\n",
       "<table border=\"1\" class=\"dataframe\">\n",
       "  <thead>\n",
       "    <tr style=\"text-align: right;\">\n",
       "      <th></th>\n",
       "      <th># of products</th>\n",
       "    </tr>\n",
       "    <tr>\n",
       "      <th>Country</th>\n",
       "      <th></th>\n",
       "    </tr>\n",
       "  </thead>\n",
       "  <tbody>\n",
       "    <tr>\n",
       "      <th>United States</th>\n",
       "      <td>2776</td>\n",
       "    </tr>\n",
       "    <tr>\n",
       "      <th>France</th>\n",
       "      <td>149</td>\n",
       "    </tr>\n",
       "    <tr>\n",
       "      <th>Switzerland</th>\n",
       "      <td>54</td>\n",
       "    </tr>\n",
       "    <tr>\n",
       "      <th>Germany</th>\n",
       "      <td>42</td>\n",
       "    </tr>\n",
       "    <tr>\n",
       "      <th>Canada</th>\n",
       "      <td>10</td>\n",
       "    </tr>\n",
       "  </tbody>\n",
       "</table>\n",
       "</div>"
      ],
      "text/plain": [
       "               # of products\n",
       "Country                     \n",
       "United States           2776\n",
       "France                   149\n",
       "Switzerland               54\n",
       "Germany                   42\n",
       "Canada                    10"
      ]
     },
     "execution_count": 61,
     "metadata": {},
     "output_type": "execute_result"
    }
   ],
   "source": [
    "zf = zinc_frame.head(20)\n",
    "zf.columns = ['Country', '# of products']\n",
    "zf.at[zf.index[0], 'Country'] = 'United States'\n",
    "zf.at[zf.index[7], 'Country'] = 'United States'\n",
    "zf.at[zf.index[2], 'Country'] = 'Switzerland'\n",
    "zf.at[zf.index[4], 'Country'] = 'Germany'\n",
    "zf.at[zf.index[6], 'Country'] = 'Spain'\n",
    "zf.at[zf.index[8], 'Country'] = 'Russia'\n",
    "zinc_groups = zf.groupby(zf['Country'])\n",
    "zf = pd.DataFrame(zinc_groups.sum())\n",
    "zf = zf.sort_values(by='# of products', ascending=False).head(5)\n",
    "zf.to_html('Top10_Countries_for_products_with_Zinc.html')\n",
    "zf.head(5)"
   ]
  },
  {
   "cell_type": "code",
   "execution_count": 62,
   "metadata": {},
   "outputs": [],
   "source": [
    "# Grouping product categories by those that contain Chicken, Pork and Tofu list their Average, \n",
    "# Median and Standard Deviation Protein content per 100g, excluding data that is not available\n",
    "#(NaN)\n",
    "\n",
    "SQLITE_FILE = \"openFoodFacts.db\"\n",
    "conn = sqlite3.connect(SQLITE_FILE) #opens sqlite and database file\n",
    "protein_frame = pd.read_sql_query('''SELECT proteins_100g, ingredients_text\n",
    "FROM FoodFacts\n",
    "WHERE proteins_100g IS NOT \"\"\n",
    "AND proteins_100g IS NOT \"NaN\" \n",
    "AND proteins_100g IS NOT NULL \n",
    "''', conn)"
   ]
  },
  {
   "cell_type": "code",
   "execution_count": 76,
   "metadata": {},
   "outputs": [],
   "source": [
    "meatDict = {}\n",
    "\n",
    "chicken_frame = protein_frame[protein_frame['ingredients_text'].str.contains('chicken', case=False, na=False)]\n",
    "pork_frame = protein_frame[protein_frame['ingredients_text'].str.contains('pork', case=False, na=False)]\n",
    "tofu_frame = protein_frame[protein_frame['ingredients_text'].str.contains('tofu', case=False, na=False)]\n",
    "\n",
    "meatDict['chicken'] = chicken_frame\n",
    "meatDict['pork'] = pork_frame\n",
    "meatDict['tofu'] = tofu_frame"
   ]
  },
  {
   "cell_type": "code",
   "execution_count": 75,
   "metadata": {},
   "outputs": [],
   "source": [
    "for k, f in meatDict.items():\n",
    "    f = pd.DataFrame(f.describe())\n",
    "    f = f.drop(['count', 'min', '25%', '75%', 'max'])\n",
    "    last = f.index[-1]\n",
    "    f = f.rename(index={last: 'median'})\n",
    "    f.to_html(\"Average protein content per 100g for {} products.html\".format(k))"
   ]
  }
 ],
 "metadata": {
  "kernelspec": {
   "display_name": "Python 3",
   "language": "python",
   "name": "python3"
  },
  "language_info": {
   "codemirror_mode": {
    "name": "ipython",
    "version": 3
   },
   "file_extension": ".py",
   "mimetype": "text/x-python",
   "name": "python",
   "nbconvert_exporter": "python",
   "pygments_lexer": "ipython3",
   "version": "3.6.3"
  }
 },
 "nbformat": 4,
 "nbformat_minor": 2
}
