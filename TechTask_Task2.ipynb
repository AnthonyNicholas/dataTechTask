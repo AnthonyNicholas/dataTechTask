{
 "cells": [
  {
   "cell_type": "code",
   "execution_count": 97,
   "metadata": {},
   "outputs": [],
   "source": [
    "#Tech Task: Task 2\n",
    "import pandas as pd\n",
    "import requests\n",
    "from bs4 import BeautifulSoup\n"
   ]
  },
  {
   "cell_type": "code",
   "execution_count": 98,
   "metadata": {},
   "outputs": [],
   "source": [
    "crashPages = list()\n",
    "\n",
    "for i in range(1,5):\n",
    "    url = \"http://www.planecrashinfo.com/1920/1920-{}.htm\".format(i)\n",
    "    crashPages.append(requests.get(url))"
   ]
  },
  {
   "cell_type": "code",
   "execution_count": 99,
   "metadata": {},
   "outputs": [
    {
     "data": {
      "text/plain": [
       "True"
      ]
     },
     "execution_count": 99,
     "metadata": {},
     "output_type": "execute_result"
    }
   ],
   "source": [
    "crashPages[1].ok"
   ]
  },
  {
   "cell_type": "code",
   "execution_count": 22,
   "metadata": {},
   "outputs": [],
   "source": [
    "#data.text"
   ]
  },
  {
   "cell_type": "code",
   "execution_count": 14,
   "metadata": {},
   "outputs": [],
   "source": [
    "# soup = BeautifulSoup(data.text, 'html.parser')"
   ]
  },
  {
   "cell_type": "code",
   "execution_count": 91,
   "metadata": {},
   "outputs": [],
   "source": [
    "# print(soup.prettify)"
   ]
  },
  {
   "cell_type": "code",
   "execution_count": 92,
   "metadata": {},
   "outputs": [],
   "source": [
    "# print(soup.table.find_all('td', width=\"547\"))"
   ]
  },
  {
   "cell_type": "code",
   "execution_count": 100,
   "metadata": {},
   "outputs": [],
   "source": [
    "# crashFrame = pd.DataFrame(columns=['Date:','Time:','Location:','Operator:','Flight #:','Route:','AC Type:', 'Registration:', 'cn / ln:', 'Aboard:', 'Fatalities:', 'Ground:', 'Summary:'], rows=[0:100])"
   ]
  },
  {
   "cell_type": "code",
   "execution_count": 120,
   "metadata": {},
   "outputs": [],
   "source": [
    "recordList = list()\n",
    "\n",
    "for page in crashPages:\n",
    "    soup = BeautifulSoup(page.text, 'html.parser')\n",
    "\n",
    "    table = soup.find('table')\n",
    "    rows = table.find_all('tr')\n",
    "    rows = rows[1:]\n",
    "    \n",
    "    dataDict = {}\n",
    "\n",
    "    for row in rows:\n",
    "        td_items = row.find_all('td')\n",
    "        td_label = td_items[0].text.strip()\n",
    "        td_data = td_items[1].text.strip()\n",
    "        dataDict[td_label] = td_data\n",
    "            \n",
    "    recordList.append(dataDict)\n",
    "\n",
    "crashFrame = pd.DataFrame(recordList)"
   ]
  },
  {
   "cell_type": "code",
   "execution_count": 121,
   "metadata": {},
   "outputs": [
    {
     "data": {
      "text/html": [
       "<div>\n",
       "<style scoped>\n",
       "    .dataframe tbody tr th:only-of-type {\n",
       "        vertical-align: middle;\n",
       "    }\n",
       "\n",
       "    .dataframe tbody tr th {\n",
       "        vertical-align: top;\n",
       "    }\n",
       "\n",
       "    .dataframe thead th {\n",
       "        text-align: right;\n",
       "    }\n",
       "</style>\n",
       "<table border=\"1\" class=\"dataframe\">\n",
       "  <thead>\n",
       "    <tr style=\"text-align: right;\">\n",
       "      <th></th>\n",
       "      <th>AC\n",
       "        Type:</th>\n",
       "      <th>Aboard:</th>\n",
       "      <th>Date:</th>\n",
       "      <th>Fatalities:</th>\n",
       "      <th>Flight #:</th>\n",
       "      <th>Ground:</th>\n",
       "      <th>Location:</th>\n",
       "      <th>Operator:</th>\n",
       "      <th>Registration:</th>\n",
       "      <th>Route:</th>\n",
       "      <th>Summary:</th>\n",
       "      <th>Time:</th>\n",
       "      <th>cn / ln:</th>\n",
       "    </tr>\n",
       "  </thead>\n",
       "  <tbody>\n",
       "    <tr>\n",
       "      <th>0</th>\n",
       "      <td>Wright Flyer III</td>\n",
       "      <td>2   (passengers:1  crew:1)</td>\n",
       "      <td>September 17, 1908</td>\n",
       "      <td>1   (passengers:1  crew:0)</td>\n",
       "      <td>?</td>\n",
       "      <td>0</td>\n",
       "      <td>Fort Myer, Virginia</td>\n",
       "      <td>Military - U.S. Army</td>\n",
       "      <td>?</td>\n",
       "      <td>Demonstration</td>\n",
       "      <td>During a demonstration flight, a U.S. Army fly...</td>\n",
       "      <td>17:18</td>\n",
       "      <td>1</td>\n",
       "    </tr>\n",
       "    <tr>\n",
       "      <th>1</th>\n",
       "      <td>Wright Byplane</td>\n",
       "      <td>1   (passengers:0  crew:1)</td>\n",
       "      <td>September 07, 1909</td>\n",
       "      <td>1   (passengers:0  crew:0)</td>\n",
       "      <td>?</td>\n",
       "      <td>0</td>\n",
       "      <td>Juvisy-sur-Orge, France</td>\n",
       "      <td>?</td>\n",
       "      <td>SC1</td>\n",
       "      <td>Air show</td>\n",
       "      <td>Eugene Lefebvre was the first pilot to ever be...</td>\n",
       "      <td>?</td>\n",
       "      <td>?</td>\n",
       "    </tr>\n",
       "    <tr>\n",
       "      <th>2</th>\n",
       "      <td>Dirigible</td>\n",
       "      <td>5   (passengers:0  crew:5)</td>\n",
       "      <td>July 12, 1912</td>\n",
       "      <td>5   (passengers:0  crew:5)</td>\n",
       "      <td>?</td>\n",
       "      <td>0</td>\n",
       "      <td>Atlantic City, New Jersey</td>\n",
       "      <td>Military - U.S. Navy</td>\n",
       "      <td>?</td>\n",
       "      <td>Test flight</td>\n",
       "      <td>First U.S. dirigible Akron exploded just offsh...</td>\n",
       "      <td>06:30</td>\n",
       "      <td>?</td>\n",
       "    </tr>\n",
       "    <tr>\n",
       "      <th>3</th>\n",
       "      <td>Curtiss seaplane</td>\n",
       "      <td>1   (passengers:0  crew:1)</td>\n",
       "      <td>August 06, 1913</td>\n",
       "      <td>1   (passengers:0  crew:1)</td>\n",
       "      <td>?</td>\n",
       "      <td>0</td>\n",
       "      <td>Victoria, British Columbia, Canada</td>\n",
       "      <td>Private</td>\n",
       "      <td>?</td>\n",
       "      <td>?</td>\n",
       "      <td>The first fatal airplane accident in Canada oc...</td>\n",
       "      <td>?</td>\n",
       "      <td>?</td>\n",
       "    </tr>\n",
       "  </tbody>\n",
       "</table>\n",
       "</div>"
      ],
      "text/plain": [
       "  AC\\n        Type:                     Aboard:               Date:  \\\n",
       "0  Wright Flyer III  2   (passengers:1  crew:1)  September 17, 1908   \n",
       "1    Wright Byplane  1   (passengers:0  crew:1)  September 07, 1909   \n",
       "2         Dirigible  5   (passengers:0  crew:5)       July 12, 1912   \n",
       "3  Curtiss seaplane  1   (passengers:0  crew:1)     August 06, 1913   \n",
       "\n",
       "                  Fatalities: Flight #: Ground:  \\\n",
       "0  1   (passengers:1  crew:0)         ?       0   \n",
       "1  1   (passengers:0  crew:0)         ?       0   \n",
       "2  5   (passengers:0  crew:5)         ?       0   \n",
       "3  1   (passengers:0  crew:1)         ?       0   \n",
       "\n",
       "                            Location:             Operator: Registration:  \\\n",
       "0                 Fort Myer, Virginia  Military - U.S. Army             ?   \n",
       "1             Juvisy-sur-Orge, France                     ?           SC1   \n",
       "2           Atlantic City, New Jersey  Military - U.S. Navy             ?   \n",
       "3  Victoria, British Columbia, Canada               Private             ?   \n",
       "\n",
       "          Route:                                           Summary:  Time:  \\\n",
       "0  Demonstration  During a demonstration flight, a U.S. Army fly...  17:18   \n",
       "1       Air show  Eugene Lefebvre was the first pilot to ever be...      ?   \n",
       "2    Test flight  First U.S. dirigible Akron exploded just offsh...  06:30   \n",
       "3              ?  The first fatal airplane accident in Canada oc...      ?   \n",
       "\n",
       "  cn / ln:  \n",
       "0        1  \n",
       "1        ?  \n",
       "2        ?  \n",
       "3        ?  "
      ]
     },
     "execution_count": 121,
     "metadata": {},
     "output_type": "execute_result"
    }
   ],
   "source": [
    "crashFrame.head()"
   ]
  },
  {
   "cell_type": "code",
   "execution_count": null,
   "metadata": {},
   "outputs": [],
   "source": []
  }
 ],
 "metadata": {
  "kernelspec": {
   "display_name": "Python 3",
   "language": "python",
   "name": "python3"
  },
  "language_info": {
   "codemirror_mode": {
    "name": "ipython",
    "version": 3
   },
   "file_extension": ".py",
   "mimetype": "text/x-python",
   "name": "python",
   "nbconvert_exporter": "python",
   "pygments_lexer": "ipython3",
   "version": "3.6.2"
  }
 },
 "nbformat": 4,
 "nbformat_minor": 2
}
