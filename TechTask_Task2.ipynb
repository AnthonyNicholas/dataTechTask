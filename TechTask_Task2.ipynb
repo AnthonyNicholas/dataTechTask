{
 "cells": [
  {
   "cell_type": "code",
   "execution_count": 48,
   "metadata": {},
   "outputs": [],
   "source": [
    "#Tech Task: Task 2\n",
    "\n",
    "# Steps: Write the code to perform an ETL process to extract a data set from the supplied source\n",
    "# Persist outputs and Visualise the data in an accessible format. Source: http://www.planecrashinfo.com/database.htm\n",
    "\n",
    "# Output:\n",
    "# Total fatalities between period 1920-2016 period\n",
    "# Top 3 airlines with the highest rate of incidents\n",
    "# Year with the highest incidents\n",
    "\n",
    "import pandas as pd\n",
    "import numpy as np\n",
    "import requests\n",
    "import sqlite3\n",
    "from bs4 import BeautifulSoup\n",
    "from time import sleep\n",
    "import re\n"
   ]
  },
  {
   "cell_type": "code",
   "execution_count": 137,
   "metadata": {},
   "outputs": [
    {
     "name": "stdout",
     "output_type": "stream",
     "text": [
      "....................................................1972 has >= maxCrashNum\n",
      "............................................."
     ]
    }
   ],
   "source": [
    "#Check the maximum number of crashes across all the years - max year is 1972 with 105 crashes\n",
    "crashNum = {}\n",
    "\n",
    "for i in range(1920, 2018):\n",
    "    crashNum[i] = 0\n",
    "    maxCrashNum = 105\n",
    "    url = \"http://www.planecrashinfo.com/{}/{}-{}.htm\".format(i, i, maxCrashNum)\n",
    "        \n",
    "    try:\n",
    "        r = requests.get(url)\n",
    "        if r.ok:\n",
    "            print(\"{} has >= maxCrashNum\".format(i))\n",
    "        else:\n",
    "            print(\".\", end=\"\")\n",
    "            \n",
    "    #Insert delay so to avoid connection being refused (Max retries exceeded with URL)\n",
    "    except requests.exceptions.ConnectionError:\n",
    "            \n",
    "            print(\"Connection refused\")\n",
    "            sleep(5)\n",
    "        "
   ]
  },
  {
   "cell_type": "code",
   "execution_count": 4,
   "metadata": {},
   "outputs": [
    {
     "name": "stdout",
     "output_type": "stream",
     "text": [
      "............................................................................................................................................................................................................................................................................................................................................................................................................................................................................................................................................................................................................................................................................................................................................................................................................................................................................................................................................................................................................................................................................................................................................................................................................................................................................................................................................................................................................................................................................................................................................................................................................................................................................................................................................................................................................................................................................................................................................................................................................................................................................................................................................................................................................................................................................................................................................................................................................................................................................................................................................................................................................................................................................................................................................................................................................................................................................................................................................................................................................................................................................................................................................................................................................................................................................................................................................................................................................................................................................................................................................................................................................................................................................................................................................................................................................................................................................................................................................................................................................................................................................................................................................................................................................................................................................................................................................................................................................................................................................................................................................................................................................................................................................................................................................................................................................................................................................................................................................................................................................................................................................................................................................................................................................................................................................................................................................................................................................................................................................................................................................................................................................................................................................................................................................................................................................................................................................................................................................................................................................"
     ]
    }
   ],
   "source": [
    "#Get data from crash website and put in crashPages list\n",
    "\n",
    "crashPages = list()\n",
    "\n",
    "for year in range(1920, 2018):\n",
    "    for i in range(1,110):\n",
    "        url = \"http://www.planecrashinfo.com/{}/{}-{}.htm\".format(year, year, i)\n",
    "        try:\n",
    "            r = requests.get(url)\n",
    "            if not r.ok:\n",
    "                break\n",
    "            else:\n",
    "                crashPages.append(r)\n",
    "                print(\".\", end=\"\")\n",
    "    \n",
    "        #Insert delay so to avoid connection being refused (Max retries exceeded with URL)\n",
    "        except requests.exceptions.ConnectionError:\n",
    "            \n",
    "            print(\"Connection refused\")\n",
    "            sleep(5)\n",
    "    "
   ]
  },
  {
   "cell_type": "code",
   "execution_count": 103,
   "metadata": {},
   "outputs": [],
   "source": [
    "#Parse data in crashPages list\n",
    "\n",
    "recordList = list()\n",
    "del recordList[:] #clear list\n",
    "\n",
    "for page in crashPages:\n",
    "    soup = BeautifulSoup(page.text, 'html.parser')\n",
    "\n",
    "    table = soup.find('table')\n",
    "    rows = table.find_all('tr')\n",
    "    rows = rows[1:]\n",
    "    \n",
    "    dataDict = {}\n",
    "\n",
    "    for row in rows:\n",
    "        td_items = row.find_all('td')\n",
    "        td_label = td_items[0].text.strip()\n",
    "        td_data = td_items[1].text.strip()\n",
    "        dataDict[td_label] = td_data\n",
    "    \n",
    "    #Clean data\n",
    "    try:\n",
    "        aboardNum = dataDict['Aboard:'].split(\" \")[0] #Just take the first number, don't worry about the passenger/crew breakup\n",
    "        dataDict['Aboard:'] = int(aboardNum)\n",
    "        fatalityNum = dataDict['Fatalities:'].split(\" \")[0] #Just take the first number, don't worry about the passenger/crew breakup\n",
    "#         print(\"{}, \".format(fatalityNum), end=\"\")\n",
    "        dataDict['Fatalities:'] = int(fatalityNum) \n",
    "        year = dataDict['Date:'].split(\" \")[2] #Take last portion of date\n",
    "        dataDict['Year:'] = year    \n",
    "    except:\n",
    "#         print('x', end=\"\") #corrupted data\n",
    "        continue\n",
    "    \n",
    "    recordList.append(dataDict)"
   ]
  },
  {
   "cell_type": "code",
   "execution_count": 104,
   "metadata": {},
   "outputs": [],
   "source": [
    "#Insert into pandas dataframe (crashFrame)\n",
    "crashFrame.drop(crashFrame.index, inplace=True) #clear dataframe\n",
    "crashFrame = pd.DataFrame(recordList)"
   ]
  },
  {
   "cell_type": "code",
   "execution_count": 148,
   "metadata": {},
   "outputs": [
    {
     "data": {
      "text/html": [
       "<div>\n",
       "<style scoped>\n",
       "    .dataframe tbody tr th:only-of-type {\n",
       "        vertical-align: middle;\n",
       "    }\n",
       "\n",
       "    .dataframe tbody tr th {\n",
       "        vertical-align: top;\n",
       "    }\n",
       "\n",
       "    .dataframe thead th {\n",
       "        text-align: right;\n",
       "    }\n",
       "</style>\n",
       "<table border=\"1\" class=\"dataframe\">\n",
       "  <thead>\n",
       "    <tr style=\"text-align: right;\">\n",
       "      <th></th>\n",
       "      <th>Total fatalities from 1920-2016</th>\n",
       "    </tr>\n",
       "  </thead>\n",
       "  <tbody>\n",
       "    <tr>\n",
       "      <th>Total Number:</th>\n",
       "      <td>114575</td>\n",
       "    </tr>\n",
       "  </tbody>\n",
       "</table>\n",
       "</div>"
      ],
      "text/plain": [
       "               Total fatalities from 1920-2016\n",
       "Total Number:                           114575"
      ]
     },
     "execution_count": 148,
     "metadata": {},
     "output_type": "execute_result"
    }
   ],
   "source": [
    "# Total fatalities between 1920-2016\n",
    "total_fatality_dict = {}\n",
    "total_fatality_dict['Total fatalities from 1920-2016'] = [crashFrame['Fatalities:'].sum()]\n",
    "tf_frame = pd.DataFrame(total_fatality_dict)\n",
    "tf_frame = tf_frame.rename(index={0: 'Total Number:'})\n",
    "\n",
    "# total_fatalities.to_html(\"Total fatalities from 1920-2016.html\")\n",
    "# print(\"Total fatalities from 1920-2016: {}\".format(total_fatalities))\n",
    "tf_frame.head()"
   ]
  },
  {
   "cell_type": "code",
   "execution_count": 142,
   "metadata": {},
   "outputs": [
    {
     "data": {
      "text/html": [
       "<div>\n",
       "<style scoped>\n",
       "    .dataframe tbody tr th:only-of-type {\n",
       "        vertical-align: middle;\n",
       "    }\n",
       "\n",
       "    .dataframe tbody tr th {\n",
       "        vertical-align: top;\n",
       "    }\n",
       "\n",
       "    .dataframe thead th {\n",
       "        text-align: right;\n",
       "    }\n",
       "</style>\n",
       "<table border=\"1\" class=\"dataframe\">\n",
       "  <thead>\n",
       "    <tr style=\"text-align: right;\">\n",
       "      <th></th>\n",
       "      <th>Aboard:</th>\n",
       "      <th>Fatalities:</th>\n",
       "    </tr>\n",
       "  </thead>\n",
       "  <tbody>\n",
       "    <tr>\n",
       "      <th>count</th>\n",
       "      <td>5731.000000</td>\n",
       "      <td>5731.000000</td>\n",
       "    </tr>\n",
       "    <tr>\n",
       "      <th>mean</th>\n",
       "      <td>27.494329</td>\n",
       "      <td>19.992148</td>\n",
       "    </tr>\n",
       "    <tr>\n",
       "      <th>std</th>\n",
       "      <td>42.847366</td>\n",
       "      <td>32.953992</td>\n",
       "    </tr>\n",
       "    <tr>\n",
       "      <th>min</th>\n",
       "      <td>0.000000</td>\n",
       "      <td>0.000000</td>\n",
       "    </tr>\n",
       "    <tr>\n",
       "      <th>25%</th>\n",
       "      <td>5.000000</td>\n",
       "      <td>3.000000</td>\n",
       "    </tr>\n",
       "    <tr>\n",
       "      <th>50%</th>\n",
       "      <td>13.000000</td>\n",
       "      <td>9.000000</td>\n",
       "    </tr>\n",
       "    <tr>\n",
       "      <th>75%</th>\n",
       "      <td>30.000000</td>\n",
       "      <td>22.000000</td>\n",
       "    </tr>\n",
       "    <tr>\n",
       "      <th>max</th>\n",
       "      <td>644.000000</td>\n",
       "      <td>583.000000</td>\n",
       "    </tr>\n",
       "  </tbody>\n",
       "</table>\n",
       "</div>"
      ],
      "text/plain": [
       "           Aboard:  Fatalities:\n",
       "count  5731.000000  5731.000000\n",
       "mean     27.494329    19.992148\n",
       "std      42.847366    32.953992\n",
       "min       0.000000     0.000000\n",
       "25%       5.000000     3.000000\n",
       "50%      13.000000     9.000000\n",
       "75%      30.000000    22.000000\n",
       "max     644.000000   583.000000"
      ]
     },
     "execution_count": 142,
     "metadata": {},
     "output_type": "execute_result"
    }
   ],
   "source": [
    "crashFrame.describe()"
   ]
  },
  {
   "cell_type": "code",
   "execution_count": 140,
   "metadata": {},
   "outputs": [
    {
     "name": "stdout",
     "output_type": "stream",
     "text": [
      "Top 3 airlines with the highest rate of incidents between 1920-2016\n"
     ]
    },
    {
     "data": {
      "text/html": [
       "<div>\n",
       "<style scoped>\n",
       "    .dataframe tbody tr th:only-of-type {\n",
       "        vertical-align: middle;\n",
       "    }\n",
       "\n",
       "    .dataframe tbody tr th {\n",
       "        vertical-align: top;\n",
       "    }\n",
       "\n",
       "    .dataframe thead th {\n",
       "        text-align: right;\n",
       "    }\n",
       "</style>\n",
       "<table border=\"1\" class=\"dataframe\">\n",
       "  <thead>\n",
       "    <tr style=\"text-align: right;\">\n",
       "      <th></th>\n",
       "      <th>Aboard:</th>\n",
       "      <th>Fatalities:</th>\n",
       "    </tr>\n",
       "    <tr>\n",
       "      <th>Operator:</th>\n",
       "      <th></th>\n",
       "      <th></th>\n",
       "    </tr>\n",
       "  </thead>\n",
       "  <tbody>\n",
       "    <tr>\n",
       "      <th>Aeroflot</th>\n",
       "      <td>11682</td>\n",
       "      <td>9158</td>\n",
       "    </tr>\n",
       "    <tr>\n",
       "      <th>Military - U.S. Air Force</th>\n",
       "      <td>4505</td>\n",
       "      <td>3718</td>\n",
       "    </tr>\n",
       "    <tr>\n",
       "      <th>Air France</th>\n",
       "      <td>2886</td>\n",
       "      <td>1743</td>\n",
       "    </tr>\n",
       "  </tbody>\n",
       "</table>\n",
       "</div>"
      ],
      "text/plain": [
       "                           Aboard:  Fatalities:\n",
       "Operator:                                      \n",
       "Aeroflot                     11682         9158\n",
       "Military - U.S. Air Force     4505         3718\n",
       "Air France                    2886         1743"
      ]
     },
     "execution_count": 140,
     "metadata": {},
     "output_type": "execute_result"
    }
   ],
   "source": [
    "# Top 3 airlines with the highest rate of incidents\n",
    "\n",
    "airline_incident_groups = crashFrame.groupby(crashFrame['Operator:'])\n",
    "airline_incident_frame = airline_incident_groups.sum()\n",
    "airline_incident_frame = airline_incident_frame.sort_values(by='Fatalities:', ascending=False)\n",
    "top_three_worst_airlines_frame = airline_incident_frame[0:3]\n",
    "print(\"Top 3 airlines with the highest rate of incidents between 1920-2016\")\n",
    "top_three_worst_airlines_frame.to_html(\"Top 3 airlines with the highest rate of incidents between 1920-2016.html\")\n",
    "top_three_worst_airlines_frame.head()"
   ]
  },
  {
   "cell_type": "code",
   "execution_count": 138,
   "metadata": {},
   "outputs": [
    {
     "name": "stdout",
     "output_type": "stream",
     "text": [
      "Year with the highest incidents: 1972 with 105 incidents\n"
     ]
    },
    {
     "data": {
      "text/html": [
       "<div>\n",
       "<style scoped>\n",
       "    .dataframe tbody tr th:only-of-type {\n",
       "        vertical-align: middle;\n",
       "    }\n",
       "\n",
       "    .dataframe tbody tr th {\n",
       "        vertical-align: top;\n",
       "    }\n",
       "\n",
       "    .dataframe thead th {\n",
       "        text-align: right;\n",
       "    }\n",
       "</style>\n",
       "<table border=\"1\" class=\"dataframe\">\n",
       "  <thead>\n",
       "    <tr style=\"text-align: right;\">\n",
       "      <th></th>\n",
       "      <th># of Incidents</th>\n",
       "    </tr>\n",
       "    <tr>\n",
       "      <th>Year:</th>\n",
       "      <th></th>\n",
       "    </tr>\n",
       "  </thead>\n",
       "  <tbody>\n",
       "    <tr>\n",
       "      <th>1972</th>\n",
       "      <td>105</td>\n",
       "    </tr>\n",
       "    <tr>\n",
       "      <th>1968</th>\n",
       "      <td>98</td>\n",
       "    </tr>\n",
       "    <tr>\n",
       "      <th>1989</th>\n",
       "      <td>94</td>\n",
       "    </tr>\n",
       "    <tr>\n",
       "      <th>1967</th>\n",
       "      <td>93</td>\n",
       "    </tr>\n",
       "    <tr>\n",
       "      <th>1970</th>\n",
       "      <td>92</td>\n",
       "    </tr>\n",
       "  </tbody>\n",
       "</table>\n",
       "</div>"
      ],
      "text/plain": [
       "       # of Incidents\n",
       "Year:                \n",
       "1972              105\n",
       "1968               98\n",
       "1989               94\n",
       "1967               93\n",
       "1970               92"
      ]
     },
     "execution_count": 138,
     "metadata": {},
     "output_type": "execute_result"
    }
   ],
   "source": [
    "# Year with the highest incidents\n",
    "worst_year_groups = crashFrame.groupby(crashFrame['Year:'])\n",
    "worst_year_frame = pd.DataFrame(worst_year_groups.size())\n",
    "worst_year_frame.columns = ['# of Incidents']\n",
    "worst_year_frame = worst_year_frame.sort_values(by='# of Incidents', ascending=False)\n",
    "\n",
    "print(\"Year with the highest incidents: 1972 with 105 incidents\")\n",
    "\n",
    "worst_year_frame = worst_year_frame.head(5)\n",
    "worst_year_frame.to_html(\"Years with the highest number of plane crash incidents.html\")\n",
    "worst_year_frame.head(5)"
   ]
  },
  {
   "cell_type": "code",
   "execution_count": 135,
   "metadata": {},
   "outputs": [
    {
     "name": "stderr",
     "output_type": "stream",
     "text": [
      "/opt/conda/lib/python3.6/site-packages/pandas/core/generic.py:1534: UserWarning: The spaces in these column names will not be changed. In pandas versions < 0.14, spaces were converted to underscores.\n",
      "  chunksize=chunksize, dtype=dtype)\n"
     ]
    }
   ],
   "source": [
    "# Store data in sqlite db\n",
    "\n",
    "SQLITE_FILE = \"crashData.db\"\n",
    "conn = sqlite3.connect(SQLITE_FILE) #opens sqlite and database file\n",
    "myCursor = conn.cursor() #provides connection to database\n",
    "crashFrame.to_sql(\"crashTable\", conn, if_exists=\"replace\")\n"
   ]
  },
  {
   "cell_type": "code",
   "execution_count": null,
   "metadata": {},
   "outputs": [],
   "source": []
  }
 ],
 "metadata": {
  "kernelspec": {
   "display_name": "Python 3",
   "language": "python",
   "name": "python3"
  },
  "language_info": {
   "codemirror_mode": {
    "name": "ipython",
    "version": 3
   },
   "file_extension": ".py",
   "mimetype": "text/x-python",
   "name": "python",
   "nbconvert_exporter": "python",
   "pygments_lexer": "ipython3",
   "version": "3.6.2"
  }
 },
 "nbformat": 4,
 "nbformat_minor": 2
}
